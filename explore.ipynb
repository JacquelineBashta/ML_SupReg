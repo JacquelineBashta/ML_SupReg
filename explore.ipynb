{
 "cells": [
  {
   "cell_type": "code",
   "execution_count": 83,
   "metadata": {},
   "outputs": [],
   "source": [
    "import pandas as pd\n",
    "import seaborn as sns\n",
    "import matplotlib.pyplot as plt\n",
    "\n",
    "from sklearn.model_selection import train_test_split\n",
    "\n",
    "from sklearn.pipeline import Pipeline\n",
    "from sklearn.compose import ColumnTransformer,make_column_selector\n",
    "\n",
    "from sklearn.preprocessing import StandardScaler,OrdinalEncoder,OneHotEncoder\n",
    "from sklearn.impute import SimpleImputer\n",
    "from sklearn.tree import DecisionTreeRegressor\n",
    "\n",
    "\n",
    "\n",
    "from sklearn.metrics import mean_absolute_error,mean_squared_error,mean_absolute_percentage_error,r2_score"
   ]
  },
  {
   "attachments": {},
   "cell_type": "markdown",
   "metadata": {},
   "source": [
    "### static functions"
   ]
  },
  {
   "cell_type": "code",
   "execution_count": 84,
   "metadata": {},
   "outputs": [],
   "source": [
    "def prepare_data(df):\n",
    "    drop_col =[\n",
    "        \"Id\",\n",
    "        \"Condition1\",\n",
    "        \"Condition2\",\n",
    "        \"Exterior1st\",\n",
    "        \"Exterior2nd\",\n",
    "        \"MiscVal\",\n",
    "        #\"3SsnPorch\"\n",
    "        #\"MoSold\"\n",
    "        ]\n",
    "    for col in drop_col:\n",
    "        if col in df.columns:\n",
    "            df = df.drop(columns=col)\n",
    "            \n",
    "    #Dirty solution to replace \"None\" with \"NA\" in one column to be the same as others\n",
    "    df.loc[df.MasVnrType == \"None\",\"MasVnrType\"] = \"NA\"\n",
    "    \n",
    "    return df"
   ]
  },
  {
   "cell_type": "code",
   "execution_count": 85,
   "metadata": {},
   "outputs": [],
   "source": [
    "def find_columns(all_cat_col,which):\n",
    "    dict_ordinal={\n",
    "    \"Utilities\":[\"NA\",\"ELO\",\"NoSeWa\",\"NoSewr\",\"AllPub\"],\n",
    "    \"LandSlope\":[\"NA\",\"Sev\",\"Mod\",\"Gtl\"],\n",
    "    #\"HouseStyle\":[\"1Story\",\"1.5Fin\",\"1.5Unf\",\"2Story\",\"2.5Fin\",\"2.5Unf\",\"SFoyer\",\"SLvl\"],\n",
    "    \"RoofMatl\":[\"NA\",\"ClyTile\",\"CompShg\",\"Membran\",\"Metal\",\"Roll\",\"Tar&Grv\",\"WdShake\",\"WdShngl\"],   #Not sure\n",
    "    \"MasVnrType\":[\"NA\",\"BrkCmn\",\"BrkFace\",\"CBlock\",\"Stone\"],\n",
    "    \"Foundation\":[\"NA\",\"BrkTil\",\"CBlock\",\"Slab\",\"PConc\",\"Wood\",\"Stone\"], #Not sure\n",
    "    \"BsmtExposure\":[\"NA\",\"No\",\"Mn\",\"Av\",\"Gd\"],\n",
    "    \"BsmtFinType1\":[\"NA\",\"Unf\",\"LwQ\",\"Rec\",\"BLQ\",\"ALQ\",\"GLQ\"],\n",
    "    \"BsmtFinType2\":[\"NA\",\"Unf\",\"LwQ\",\"Rec\",\"BLQ\",\"ALQ\",\"GLQ\"],\n",
    "    \"GarageFinish\":[\"NA\",\"Unf\",\"RFn\",\"Fin\"],\n",
    "    \"PavedDrive\":[\"NA\",\"N\",\"P\",\"Y\"]\n",
    "    #\"Fence\":[]\n",
    "    }\n",
    "    cat = []\n",
    "    no_qu_col=[]\n",
    "    qu_col=[]\n",
    "    choose_col=[]\n",
    "    for col in all_cat_col:\n",
    "            if (col.endswith(\"Qual\")\n",
    "            or col.endswith(\"Qu\") \n",
    "            or col.endswith(\"QC\") \n",
    "            or col.endswith(\"Cond\")):\n",
    "                qu_col.append(col)\n",
    "            elif col not in list(dict_ordinal.keys()):\n",
    "                no_qu_col.append(col)\n",
    "        \n",
    "    if which == \"quality\":\n",
    "        choose_col = qu_col\n",
    "        cat=[\"NA\",\"Po\",\"Fa\",\"TA\",\"Gd\",\"Ex\"]\n",
    "\n",
    "    elif which == \"notquality\":\n",
    "        choose_col = no_qu_col\n",
    "    \n",
    "    elif which == \"ordinal\":\n",
    "        choose_col= list(dict_ordinal.keys())\n",
    "        cat = list(dict_ordinal.values())\n",
    "        \n",
    "    return choose_col,cat"
   ]
  },
  {
   "cell_type": "code",
   "execution_count": 95,
   "metadata": {},
   "outputs": [],
   "source": [
    "qu_col=[]\n",
    "for col in list(data_df.columns):\n",
    "    if (col.endswith(\"Qual\")\n",
    "        or col.endswith(\"Qu\") \n",
    "        or col.endswith(\"QC\") \n",
    "        or col.endswith(\"Cond\")):\n",
    "            qu_col.append(col)\n"
   ]
  },
  {
   "cell_type": "code",
   "execution_count": 96,
   "metadata": {},
   "outputs": [
    {
     "data": {
      "text/plain": [
       "['OverallQual',\n",
       " 'OverallCond',\n",
       " 'ExterQual',\n",
       " 'ExterCond',\n",
       " 'BsmtQual',\n",
       " 'BsmtCond',\n",
       " 'HeatingQC',\n",
       " 'KitchenQual',\n",
       " 'FireplaceQu',\n",
       " 'GarageQual',\n",
       " 'GarageCond',\n",
       " 'PoolQC']"
      ]
     },
     "execution_count": 96,
     "metadata": {},
     "output_type": "execute_result"
    }
   ],
   "source": [
    "qu_col"
   ]
  },
  {
   "attachments": {},
   "cell_type": "markdown",
   "metadata": {},
   "source": [
    "### Import Data"
   ]
  },
  {
   "cell_type": "code",
   "execution_count": 86,
   "metadata": {},
   "outputs": [],
   "source": [
    "data_df = pd.read_csv(\"datasets\\housing-price\\iter-7\\housing_prices.csv\")"
   ]
  },
  {
   "cell_type": "code",
   "execution_count": 87,
   "metadata": {},
   "outputs": [
    {
     "data": {
      "text/plain": [
       "0"
      ]
     },
     "execution_count": 87,
     "metadata": {},
     "output_type": "execute_result"
    }
   ],
   "source": [
    "data_df.duplicated().sum()"
   ]
  },
  {
   "cell_type": "code",
   "execution_count": 88,
   "metadata": {},
   "outputs": [
    {
     "data": {
      "text/plain": [
       "object     43\n",
       "int64      35\n",
       "float64     3\n",
       "dtype: int64"
      ]
     },
     "execution_count": 88,
     "metadata": {},
     "output_type": "execute_result"
    }
   ],
   "source": [
    "data_df.dtypes.value_counts()"
   ]
  },
  {
   "cell_type": "code",
   "execution_count": 89,
   "metadata": {},
   "outputs": [
    {
     "data": {
      "text/plain": [
       "0       208500\n",
       "1       181500\n",
       "2       223500\n",
       "3       140000\n",
       "4       250000\n",
       "         ...  \n",
       "1455    175000\n",
       "1456    210000\n",
       "1457    266500\n",
       "1458    142125\n",
       "1459    147500\n",
       "Name: SalePrice, Length: 1460, dtype: int64"
      ]
     },
     "execution_count": 89,
     "metadata": {},
     "output_type": "execute_result"
    }
   ],
   "source": [
    "data_df.SalePrice"
   ]
  },
  {
   "cell_type": "code",
   "execution_count": 93,
   "metadata": {},
   "outputs": [
    {
     "data": {
      "text/plain": [
       "KitchenAbvGr    -0.135907\n",
       "EnclosedPorch   -0.128578\n",
       "MSSubClass      -0.084284\n",
       "OverallCond     -0.077856\n",
       "YrSold          -0.028923\n",
       "LowQualFinSF    -0.025606\n",
       "Id              -0.021917\n",
       "MiscVal         -0.021190\n",
       "BsmtHalfBath    -0.016844\n",
       "BsmtFinSF2      -0.011378\n",
       "3SsnPorch        0.044584\n",
       "MoSold           0.046432\n",
       "PoolArea         0.092404\n",
       "ScreenPorch      0.111447\n",
       "BedroomAbvGr     0.168213\n",
       "BsmtUnfSF        0.214479\n",
       "BsmtFullBath     0.227122\n",
       "LotArea          0.263843\n",
       "HalfBath         0.284108\n",
       "OpenPorchSF      0.315856\n",
       "2ndFlrSF         0.319334\n",
       "WoodDeckSF       0.324413\n",
       "LotFrontage      0.351799\n",
       "BsmtFinSF1       0.386420\n",
       "Fireplaces       0.466929\n",
       "MasVnrArea       0.477493\n",
       "GarageYrBlt      0.486362\n",
       "YearRemodAdd     0.507101\n",
       "YearBuilt        0.522897\n",
       "TotRmsAbvGrd     0.533723\n",
       "FullBath         0.560664\n",
       "1stFlrSF         0.605852\n",
       "TotalBsmtSF      0.613581\n",
       "GarageArea       0.623431\n",
       "GarageCars       0.640409\n",
       "GrLivArea        0.708624\n",
       "OverallQual      0.790982\n",
       "SalePrice        1.000000\n",
       "dtype: float64"
      ]
     },
     "execution_count": 93,
     "metadata": {},
     "output_type": "execute_result"
    }
   ],
   "source": [
    "data_df.corrwith(data_df.SalePrice).sort_values()"
   ]
  },
  {
   "cell_type": "code",
   "execution_count": 62,
   "metadata": {},
   "outputs": [],
   "source": [
    "data_df = prepare_data(data_df)"
   ]
  },
  {
   "cell_type": "code",
   "execution_count": 63,
   "metadata": {},
   "outputs": [
    {
     "data": {
      "text/plain": [
       "(1460, 75)"
      ]
     },
     "execution_count": 63,
     "metadata": {},
     "output_type": "execute_result"
    }
   ],
   "source": [
    "data_df.shape"
   ]
  },
  {
   "attachments": {},
   "cell_type": "markdown",
   "metadata": {},
   "source": [
    "## Split"
   ]
  },
  {
   "cell_type": "code",
   "execution_count": 64,
   "metadata": {},
   "outputs": [],
   "source": [
    "y = data_df.pop(\"SalePrice\")\n",
    "X = data_df.copy()\n",
    "\n",
    "X_train,X_test,y_train,y_test = train_test_split(X,y\n",
    "                                                 ,test_size=0.2\n",
    "                                                 ,random_state=555\n",
    "                                                 )"
   ]
  },
  {
   "attachments": {},
   "cell_type": "markdown",
   "metadata": {},
   "source": [
    "## Pipeline"
   ]
  },
  {
   "cell_type": "code",
   "execution_count": 65,
   "metadata": {},
   "outputs": [],
   "source": [
    "all_cat_cols = list(X_train.select_dtypes(exclude=\"number\"))\n",
    "qu_cats = find_columns(all_cat_cols,which=\"quality\")\n",
    "X_cat_qu_col = qu_cats[0]\n",
    "X_cat_qu_list = qu_cats[1]"
   ]
  },
  {
   "cell_type": "code",
   "execution_count": 66,
   "metadata": {},
   "outputs": [],
   "source": [
    "noqu_cats = find_columns(all_cat_cols,which=\"notquality\")\n",
    "X_cat_noqu_col = noqu_cats[0]\n",
    "category_array=[]\n",
    "for i in range(len(X_cat_qu_col)):\n",
    "    category_array.append(X_cat_qu_list)"
   ]
  },
  {
   "cell_type": "code",
   "execution_count": 67,
   "metadata": {},
   "outputs": [],
   "source": [
    "qu_cats = find_columns(all_cat_cols,which=\"ordinal\")\n",
    "X_cat_ord_col = qu_cats[0]\n",
    "X_cat_ord_list = qu_cats[1]"
   ]
  },
  {
   "cell_type": "code",
   "execution_count": 77,
   "metadata": {},
   "outputs": [],
   "source": [
    "impute_num = SimpleImputer(strategy=\"mean\")\n",
    "\n",
    "impute_cat = SimpleImputer(strategy=\"constant\",fill_value=\"NA\")\n",
    "encode_cat = OneHotEncoder(drop=\"first\",sparse_output = False,handle_unknown=\"infrequent_if_exist\",min_frequency=6)\n",
    "encode_cat_qu = OrdinalEncoder(categories=category_array)\n",
    "encode_cat_ord = OrdinalEncoder(categories=X_cat_ord_list)\n",
    "\n",
    "scale = StandardScaler()\n",
    "model = DecisionTreeRegressor(max_depth=11,min_samples_leaf=5,min_samples_split=31)\n",
    "\n",
    "split_cats = ColumnTransformer(transformers=\n",
    "                                [(\"encode_cat_qu\", encode_cat_qu, X_cat_qu_col),\n",
    "                                 (\"encode_cat\", encode_cat, X_cat_noqu_col),\n",
    "                                 (\"encode_cat_ord\", encode_cat_ord, X_cat_ord_col)])\n",
    "\n",
    "pipe_cat_all = Pipeline(steps=[(\"impute_cat\",impute_cat),(\"split_cats\",split_cats)])\n",
    "pipe_num = Pipeline(steps=[(\"impute_num\",impute_num)])\n",
    "\n",
    "split_num_cat = ColumnTransformer(transformers=\n",
    "                                [(\"pipe_num\", pipe_num, make_column_selector(dtype_include=\"number\")),\n",
    "                                 (\"pipe_cat_all\", pipe_cat_all, make_column_selector(dtype_exclude=\"number\"))])\n",
    "\n",
    "\n",
    "pipe_all = Pipeline(steps=[(\"split_num_cat\",split_num_cat)\n",
    "                           #,(\"pca\",pca)\n",
    "                           ,(\"model\",model)]).set_output(transform=\"pandas\")"
   ]
  },
  {
   "cell_type": "code",
   "execution_count": 78,
   "metadata": {},
   "outputs": [
    {
     "data": {
      "text/html": [
       "<style>#sk-container-id-2 {color: black;background-color: white;}#sk-container-id-2 pre{padding: 0;}#sk-container-id-2 div.sk-toggleable {background-color: white;}#sk-container-id-2 label.sk-toggleable__label {cursor: pointer;display: block;width: 100%;margin-bottom: 0;padding: 0.3em;box-sizing: border-box;text-align: center;}#sk-container-id-2 label.sk-toggleable__label-arrow:before {content: \"▸\";float: left;margin-right: 0.25em;color: #696969;}#sk-container-id-2 label.sk-toggleable__label-arrow:hover:before {color: black;}#sk-container-id-2 div.sk-estimator:hover label.sk-toggleable__label-arrow:before {color: black;}#sk-container-id-2 div.sk-toggleable__content {max-height: 0;max-width: 0;overflow: hidden;text-align: left;background-color: #f0f8ff;}#sk-container-id-2 div.sk-toggleable__content pre {margin: 0.2em;color: black;border-radius: 0.25em;background-color: #f0f8ff;}#sk-container-id-2 input.sk-toggleable__control:checked~div.sk-toggleable__content {max-height: 200px;max-width: 100%;overflow: auto;}#sk-container-id-2 input.sk-toggleable__control:checked~label.sk-toggleable__label-arrow:before {content: \"▾\";}#sk-container-id-2 div.sk-estimator input.sk-toggleable__control:checked~label.sk-toggleable__label {background-color: #d4ebff;}#sk-container-id-2 div.sk-label input.sk-toggleable__control:checked~label.sk-toggleable__label {background-color: #d4ebff;}#sk-container-id-2 input.sk-hidden--visually {border: 0;clip: rect(1px 1px 1px 1px);clip: rect(1px, 1px, 1px, 1px);height: 1px;margin: -1px;overflow: hidden;padding: 0;position: absolute;width: 1px;}#sk-container-id-2 div.sk-estimator {font-family: monospace;background-color: #f0f8ff;border: 1px dotted black;border-radius: 0.25em;box-sizing: border-box;margin-bottom: 0.5em;}#sk-container-id-2 div.sk-estimator:hover {background-color: #d4ebff;}#sk-container-id-2 div.sk-parallel-item::after {content: \"\";width: 100%;border-bottom: 1px solid gray;flex-grow: 1;}#sk-container-id-2 div.sk-label:hover label.sk-toggleable__label {background-color: #d4ebff;}#sk-container-id-2 div.sk-serial::before {content: \"\";position: absolute;border-left: 1px solid gray;box-sizing: border-box;top: 0;bottom: 0;left: 50%;z-index: 0;}#sk-container-id-2 div.sk-serial {display: flex;flex-direction: column;align-items: center;background-color: white;padding-right: 0.2em;padding-left: 0.2em;position: relative;}#sk-container-id-2 div.sk-item {position: relative;z-index: 1;}#sk-container-id-2 div.sk-parallel {display: flex;align-items: stretch;justify-content: center;background-color: white;position: relative;}#sk-container-id-2 div.sk-item::before, #sk-container-id-2 div.sk-parallel-item::before {content: \"\";position: absolute;border-left: 1px solid gray;box-sizing: border-box;top: 0;bottom: 0;left: 50%;z-index: -1;}#sk-container-id-2 div.sk-parallel-item {display: flex;flex-direction: column;z-index: 1;position: relative;background-color: white;}#sk-container-id-2 div.sk-parallel-item:first-child::after {align-self: flex-end;width: 50%;}#sk-container-id-2 div.sk-parallel-item:last-child::after {align-self: flex-start;width: 50%;}#sk-container-id-2 div.sk-parallel-item:only-child::after {width: 0;}#sk-container-id-2 div.sk-dashed-wrapped {border: 1px dashed gray;margin: 0 0.4em 0.5em 0.4em;box-sizing: border-box;padding-bottom: 0.4em;background-color: white;}#sk-container-id-2 div.sk-label label {font-family: monospace;font-weight: bold;display: inline-block;line-height: 1.2em;}#sk-container-id-2 div.sk-label-container {text-align: center;}#sk-container-id-2 div.sk-container {/* jupyter's `normalize.less` sets `[hidden] { display: none; }` but bootstrap.min.css set `[hidden] { display: none !important; }` so we also need the `!important` here to be able to override the default hidden behavior on the sphinx rendered scikit-learn.org. See: https://github.com/scikit-learn/scikit-learn/issues/21755 */display: inline-block !important;position: relative;}#sk-container-id-2 div.sk-text-repr-fallback {display: none;}</style><div id=\"sk-container-id-2\" class=\"sk-top-container\"><div class=\"sk-text-repr-fallback\"><pre>Pipeline(steps=[(&#x27;split_num_cat&#x27;,\n",
       "                 ColumnTransformer(transformers=[(&#x27;pipe_num&#x27;,\n",
       "                                                  Pipeline(steps=[(&#x27;impute_num&#x27;,\n",
       "                                                                   SimpleImputer())]),\n",
       "                                                  &lt;sklearn.compose._column_transformer.make_column_selector object at 0x0000015D9ECD7D30&gt;),\n",
       "                                                 (&#x27;pipe_cat_all&#x27;,\n",
       "                                                  Pipeline(steps=[(&#x27;impute_cat&#x27;,\n",
       "                                                                   SimpleImputer(fill_value=&#x27;NA&#x27;,\n",
       "                                                                                 strategy=&#x27;constant&#x27;)),\n",
       "                                                                  (&#x27;split_cats&#x27;,\n",
       "                                                                   ColumnTransformer(transfor...\n",
       "                                                                                                                                &#x27;RFn&#x27;,\n",
       "                                                                                                                                &#x27;Fin&#x27;],\n",
       "                                                                                                                               [&#x27;NA&#x27;,\n",
       "                                                                                                                                &#x27;N&#x27;,\n",
       "                                                                                                                                &#x27;P&#x27;,\n",
       "                                                                                                                                &#x27;Y&#x27;]]),\n",
       "                                                                                                    [&#x27;Utilities&#x27;,\n",
       "                                                                                                     &#x27;LandSlope&#x27;,\n",
       "                                                                                                     &#x27;RoofMatl&#x27;,\n",
       "                                                                                                     &#x27;MasVnrType&#x27;,\n",
       "                                                                                                     &#x27;Foundation&#x27;,\n",
       "                                                                                                     &#x27;BsmtExposure&#x27;,\n",
       "                                                                                                     &#x27;BsmtFinType1&#x27;,\n",
       "                                                                                                     &#x27;BsmtFinType2&#x27;,\n",
       "                                                                                                     &#x27;GarageFinish&#x27;,\n",
       "                                                                                                     &#x27;PavedDrive&#x27;])]))]),\n",
       "                                                  &lt;sklearn.compose._column_transformer.make_column_selector object at 0x0000015D9ECD7FA0&gt;)])),\n",
       "                (&#x27;model&#x27;,\n",
       "                 DecisionTreeRegressor(max_depth=11, min_samples_leaf=5,\n",
       "                                       min_samples_split=31))])</pre><b>In a Jupyter environment, please rerun this cell to show the HTML representation or trust the notebook. <br />On GitHub, the HTML representation is unable to render, please try loading this page with nbviewer.org.</b></div><div class=\"sk-container\" hidden><div class=\"sk-item sk-dashed-wrapped\"><div class=\"sk-label-container\"><div class=\"sk-label sk-toggleable\"><input class=\"sk-toggleable__control sk-hidden--visually\" id=\"sk-estimator-id-15\" type=\"checkbox\" ><label for=\"sk-estimator-id-15\" class=\"sk-toggleable__label sk-toggleable__label-arrow\">Pipeline</label><div class=\"sk-toggleable__content\"><pre>Pipeline(steps=[(&#x27;split_num_cat&#x27;,\n",
       "                 ColumnTransformer(transformers=[(&#x27;pipe_num&#x27;,\n",
       "                                                  Pipeline(steps=[(&#x27;impute_num&#x27;,\n",
       "                                                                   SimpleImputer())]),\n",
       "                                                  &lt;sklearn.compose._column_transformer.make_column_selector object at 0x0000015D9ECD7D30&gt;),\n",
       "                                                 (&#x27;pipe_cat_all&#x27;,\n",
       "                                                  Pipeline(steps=[(&#x27;impute_cat&#x27;,\n",
       "                                                                   SimpleImputer(fill_value=&#x27;NA&#x27;,\n",
       "                                                                                 strategy=&#x27;constant&#x27;)),\n",
       "                                                                  (&#x27;split_cats&#x27;,\n",
       "                                                                   ColumnTransformer(transfor...\n",
       "                                                                                                                                &#x27;RFn&#x27;,\n",
       "                                                                                                                                &#x27;Fin&#x27;],\n",
       "                                                                                                                               [&#x27;NA&#x27;,\n",
       "                                                                                                                                &#x27;N&#x27;,\n",
       "                                                                                                                                &#x27;P&#x27;,\n",
       "                                                                                                                                &#x27;Y&#x27;]]),\n",
       "                                                                                                    [&#x27;Utilities&#x27;,\n",
       "                                                                                                     &#x27;LandSlope&#x27;,\n",
       "                                                                                                     &#x27;RoofMatl&#x27;,\n",
       "                                                                                                     &#x27;MasVnrType&#x27;,\n",
       "                                                                                                     &#x27;Foundation&#x27;,\n",
       "                                                                                                     &#x27;BsmtExposure&#x27;,\n",
       "                                                                                                     &#x27;BsmtFinType1&#x27;,\n",
       "                                                                                                     &#x27;BsmtFinType2&#x27;,\n",
       "                                                                                                     &#x27;GarageFinish&#x27;,\n",
       "                                                                                                     &#x27;PavedDrive&#x27;])]))]),\n",
       "                                                  &lt;sklearn.compose._column_transformer.make_column_selector object at 0x0000015D9ECD7FA0&gt;)])),\n",
       "                (&#x27;model&#x27;,\n",
       "                 DecisionTreeRegressor(max_depth=11, min_samples_leaf=5,\n",
       "                                       min_samples_split=31))])</pre></div></div></div><div class=\"sk-serial\"><div class=\"sk-item sk-dashed-wrapped\"><div class=\"sk-label-container\"><div class=\"sk-label sk-toggleable\"><input class=\"sk-toggleable__control sk-hidden--visually\" id=\"sk-estimator-id-16\" type=\"checkbox\" ><label for=\"sk-estimator-id-16\" class=\"sk-toggleable__label sk-toggleable__label-arrow\">split_num_cat: ColumnTransformer</label><div class=\"sk-toggleable__content\"><pre>ColumnTransformer(transformers=[(&#x27;pipe_num&#x27;,\n",
       "                                 Pipeline(steps=[(&#x27;impute_num&#x27;,\n",
       "                                                  SimpleImputer())]),\n",
       "                                 &lt;sklearn.compose._column_transformer.make_column_selector object at 0x0000015D9ECD7D30&gt;),\n",
       "                                (&#x27;pipe_cat_all&#x27;,\n",
       "                                 Pipeline(steps=[(&#x27;impute_cat&#x27;,\n",
       "                                                  SimpleImputer(fill_value=&#x27;NA&#x27;,\n",
       "                                                                strategy=&#x27;constant&#x27;)),\n",
       "                                                 (&#x27;split_cats&#x27;,\n",
       "                                                  ColumnTransformer(transformers=[(&#x27;encode_cat_qu&#x27;,\n",
       "                                                                                   OrdinalEnc...\n",
       "                                                                                                               &#x27;Unf&#x27;,\n",
       "                                                                                                               &#x27;LwQ&#x27;,\n",
       "                                                                                                               &#x27;Rec&#x27;,\n",
       "                                                                                                               &#x27;BLQ&#x27;,\n",
       "                                                                                                               &#x27;ALQ&#x27;,\n",
       "                                                                                                               &#x27;GLQ&#x27;],\n",
       "                                                                                                              [&#x27;NA&#x27;,\n",
       "                                                                                                               &#x27;Unf&#x27;,\n",
       "                                                                                                               &#x27;LwQ&#x27;,\n",
       "                                                                                                               &#x27;Rec&#x27;,\n",
       "                                                                                                               &#x27;BLQ&#x27;,\n",
       "                                                                                                               &#x27;ALQ&#x27;,\n",
       "                                                                                                               &#x27;GLQ&#x27;],\n",
       "                                                                                                              [&#x27;NA&#x27;,\n",
       "                                                                                                               &#x27;Unf&#x27;,\n",
       "                                                                                                               &#x27;RFn&#x27;,\n",
       "                                                                                                               &#x27;Fin&#x27;],\n",
       "                                                                                                              [&#x27;NA&#x27;,\n",
       "                                                                                                               &#x27;N&#x27;,\n",
       "                                                                                                               &#x27;P&#x27;,\n",
       "                                                                                                               &#x27;Y&#x27;]]),\n",
       "                                                                                   [&#x27;Utilities&#x27;,\n",
       "                                                                                    &#x27;LandSlope&#x27;,\n",
       "                                                                                    &#x27;RoofMatl&#x27;,\n",
       "                                                                                    &#x27;MasVnrType&#x27;,\n",
       "                                                                                    &#x27;Foundation&#x27;,\n",
       "                                                                                    &#x27;BsmtExposure&#x27;,\n",
       "                                                                                    &#x27;BsmtFinType1&#x27;,\n",
       "                                                                                    &#x27;BsmtFinType2&#x27;,\n",
       "                                                                                    &#x27;GarageFinish&#x27;,\n",
       "                                                                                    &#x27;PavedDrive&#x27;])]))]),\n",
       "                                 &lt;sklearn.compose._column_transformer.make_column_selector object at 0x0000015D9ECD7FA0&gt;)])</pre></div></div></div><div class=\"sk-parallel\"><div class=\"sk-parallel-item\"><div class=\"sk-item\"><div class=\"sk-label-container\"><div class=\"sk-label sk-toggleable\"><input class=\"sk-toggleable__control sk-hidden--visually\" id=\"sk-estimator-id-17\" type=\"checkbox\" ><label for=\"sk-estimator-id-17\" class=\"sk-toggleable__label sk-toggleable__label-arrow\">pipe_num</label><div class=\"sk-toggleable__content\"><pre>&lt;sklearn.compose._column_transformer.make_column_selector object at 0x0000015D9ECD7D30&gt;</pre></div></div></div><div class=\"sk-serial\"><div class=\"sk-item\"><div class=\"sk-serial\"><div class=\"sk-item\"><div class=\"sk-estimator sk-toggleable\"><input class=\"sk-toggleable__control sk-hidden--visually\" id=\"sk-estimator-id-18\" type=\"checkbox\" ><label for=\"sk-estimator-id-18\" class=\"sk-toggleable__label sk-toggleable__label-arrow\">SimpleImputer</label><div class=\"sk-toggleable__content\"><pre>SimpleImputer()</pre></div></div></div></div></div></div></div></div><div class=\"sk-parallel-item\"><div class=\"sk-item\"><div class=\"sk-label-container\"><div class=\"sk-label sk-toggleable\"><input class=\"sk-toggleable__control sk-hidden--visually\" id=\"sk-estimator-id-19\" type=\"checkbox\" ><label for=\"sk-estimator-id-19\" class=\"sk-toggleable__label sk-toggleable__label-arrow\">pipe_cat_all</label><div class=\"sk-toggleable__content\"><pre>&lt;sklearn.compose._column_transformer.make_column_selector object at 0x0000015D9ECD7FA0&gt;</pre></div></div></div><div class=\"sk-serial\"><div class=\"sk-item\"><div class=\"sk-serial\"><div class=\"sk-item\"><div class=\"sk-estimator sk-toggleable\"><input class=\"sk-toggleable__control sk-hidden--visually\" id=\"sk-estimator-id-20\" type=\"checkbox\" ><label for=\"sk-estimator-id-20\" class=\"sk-toggleable__label sk-toggleable__label-arrow\">SimpleImputer</label><div class=\"sk-toggleable__content\"><pre>SimpleImputer(fill_value=&#x27;NA&#x27;, strategy=&#x27;constant&#x27;)</pre></div></div></div><div class=\"sk-item sk-dashed-wrapped\"><div class=\"sk-label-container\"><div class=\"sk-label sk-toggleable\"><input class=\"sk-toggleable__control sk-hidden--visually\" id=\"sk-estimator-id-21\" type=\"checkbox\" ><label for=\"sk-estimator-id-21\" class=\"sk-toggleable__label sk-toggleable__label-arrow\">split_cats: ColumnTransformer</label><div class=\"sk-toggleable__content\"><pre>ColumnTransformer(transformers=[(&#x27;encode_cat_qu&#x27;,\n",
       "                                 OrdinalEncoder(categories=[[&#x27;NA&#x27;, &#x27;Po&#x27;, &#x27;Fa&#x27;,\n",
       "                                                             &#x27;TA&#x27;, &#x27;Gd&#x27;, &#x27;Ex&#x27;],\n",
       "                                                            [&#x27;NA&#x27;, &#x27;Po&#x27;, &#x27;Fa&#x27;,\n",
       "                                                             &#x27;TA&#x27;, &#x27;Gd&#x27;, &#x27;Ex&#x27;],\n",
       "                                                            [&#x27;NA&#x27;, &#x27;Po&#x27;, &#x27;Fa&#x27;,\n",
       "                                                             &#x27;TA&#x27;, &#x27;Gd&#x27;, &#x27;Ex&#x27;],\n",
       "                                                            [&#x27;NA&#x27;, &#x27;Po&#x27;, &#x27;Fa&#x27;,\n",
       "                                                             &#x27;TA&#x27;, &#x27;Gd&#x27;, &#x27;Ex&#x27;],\n",
       "                                                            [&#x27;NA&#x27;, &#x27;Po&#x27;, &#x27;Fa&#x27;,\n",
       "                                                             &#x27;TA&#x27;, &#x27;Gd&#x27;, &#x27;Ex&#x27;],\n",
       "                                                            [&#x27;NA&#x27;, &#x27;Po&#x27;, &#x27;Fa&#x27;,\n",
       "                                                             &#x27;TA&#x27;, &#x27;Gd&#x27;, &#x27;Ex&#x27;],\n",
       "                                                            [&#x27;NA&#x27;, &#x27;Po&#x27;, &#x27;Fa&#x27;,\n",
       "                                                             &#x27;TA&#x27;, &#x27;Gd&#x27;, &#x27;Ex&#x27;],\n",
       "                                                            [&#x27;NA&#x27;, &#x27;Po&#x27;, &#x27;Fa&#x27;,\n",
       "                                                             &#x27;TA&#x27;, &#x27;Gd&#x27;, &#x27;Ex&#x27;],\n",
       "                                                            [&#x27;NA&#x27;, &#x27;Po&#x27;, &#x27;Fa&#x27;,\n",
       "                                                             &#x27;T...\n",
       "                                                            [&#x27;NA&#x27;, &#x27;BrkTil&#x27;,\n",
       "                                                             &#x27;CBlock&#x27;, &#x27;Slab&#x27;,\n",
       "                                                             &#x27;PConc&#x27;, &#x27;Wood&#x27;,\n",
       "                                                             &#x27;Stone&#x27;],\n",
       "                                                            [&#x27;NA&#x27;, &#x27;No&#x27;, &#x27;Mn&#x27;,\n",
       "                                                             &#x27;Av&#x27;, &#x27;Gd&#x27;],\n",
       "                                                            [&#x27;NA&#x27;, &#x27;Unf&#x27;, &#x27;LwQ&#x27;,\n",
       "                                                             &#x27;Rec&#x27;, &#x27;BLQ&#x27;,\n",
       "                                                             &#x27;ALQ&#x27;, &#x27;GLQ&#x27;],\n",
       "                                                            [&#x27;NA&#x27;, &#x27;Unf&#x27;, &#x27;LwQ&#x27;,\n",
       "                                                             &#x27;Rec&#x27;, &#x27;BLQ&#x27;,\n",
       "                                                             &#x27;ALQ&#x27;, &#x27;GLQ&#x27;],\n",
       "                                                            [&#x27;NA&#x27;, &#x27;Unf&#x27;, &#x27;RFn&#x27;,\n",
       "                                                             &#x27;Fin&#x27;],\n",
       "                                                            [&#x27;NA&#x27;, &#x27;N&#x27;, &#x27;P&#x27;,\n",
       "                                                             &#x27;Y&#x27;]]),\n",
       "                                 [&#x27;Utilities&#x27;, &#x27;LandSlope&#x27;, &#x27;RoofMatl&#x27;,\n",
       "                                  &#x27;MasVnrType&#x27;, &#x27;Foundation&#x27;, &#x27;BsmtExposure&#x27;,\n",
       "                                  &#x27;BsmtFinType1&#x27;, &#x27;BsmtFinType2&#x27;,\n",
       "                                  &#x27;GarageFinish&#x27;, &#x27;PavedDrive&#x27;])])</pre></div></div></div><div class=\"sk-parallel\"><div class=\"sk-parallel-item\"><div class=\"sk-item\"><div class=\"sk-label-container\"><div class=\"sk-label sk-toggleable\"><input class=\"sk-toggleable__control sk-hidden--visually\" id=\"sk-estimator-id-22\" type=\"checkbox\" ><label for=\"sk-estimator-id-22\" class=\"sk-toggleable__label sk-toggleable__label-arrow\">encode_cat_qu</label><div class=\"sk-toggleable__content\"><pre>[&#x27;ExterQual&#x27;, &#x27;ExterCond&#x27;, &#x27;BsmtQual&#x27;, &#x27;BsmtCond&#x27;, &#x27;HeatingQC&#x27;, &#x27;KitchenQual&#x27;, &#x27;FireplaceQu&#x27;, &#x27;GarageQual&#x27;, &#x27;GarageCond&#x27;, &#x27;PoolQC&#x27;]</pre></div></div></div><div class=\"sk-serial\"><div class=\"sk-item\"><div class=\"sk-estimator sk-toggleable\"><input class=\"sk-toggleable__control sk-hidden--visually\" id=\"sk-estimator-id-23\" type=\"checkbox\" ><label for=\"sk-estimator-id-23\" class=\"sk-toggleable__label sk-toggleable__label-arrow\">OrdinalEncoder</label><div class=\"sk-toggleable__content\"><pre>OrdinalEncoder(categories=[[&#x27;NA&#x27;, &#x27;Po&#x27;, &#x27;Fa&#x27;, &#x27;TA&#x27;, &#x27;Gd&#x27;, &#x27;Ex&#x27;],\n",
       "                           [&#x27;NA&#x27;, &#x27;Po&#x27;, &#x27;Fa&#x27;, &#x27;TA&#x27;, &#x27;Gd&#x27;, &#x27;Ex&#x27;],\n",
       "                           [&#x27;NA&#x27;, &#x27;Po&#x27;, &#x27;Fa&#x27;, &#x27;TA&#x27;, &#x27;Gd&#x27;, &#x27;Ex&#x27;],\n",
       "                           [&#x27;NA&#x27;, &#x27;Po&#x27;, &#x27;Fa&#x27;, &#x27;TA&#x27;, &#x27;Gd&#x27;, &#x27;Ex&#x27;],\n",
       "                           [&#x27;NA&#x27;, &#x27;Po&#x27;, &#x27;Fa&#x27;, &#x27;TA&#x27;, &#x27;Gd&#x27;, &#x27;Ex&#x27;],\n",
       "                           [&#x27;NA&#x27;, &#x27;Po&#x27;, &#x27;Fa&#x27;, &#x27;TA&#x27;, &#x27;Gd&#x27;, &#x27;Ex&#x27;],\n",
       "                           [&#x27;NA&#x27;, &#x27;Po&#x27;, &#x27;Fa&#x27;, &#x27;TA&#x27;, &#x27;Gd&#x27;, &#x27;Ex&#x27;],\n",
       "                           [&#x27;NA&#x27;, &#x27;Po&#x27;, &#x27;Fa&#x27;, &#x27;TA&#x27;, &#x27;Gd&#x27;, &#x27;Ex&#x27;],\n",
       "                           [&#x27;NA&#x27;, &#x27;Po&#x27;, &#x27;Fa&#x27;, &#x27;TA&#x27;, &#x27;Gd&#x27;, &#x27;Ex&#x27;],\n",
       "                           [&#x27;NA&#x27;, &#x27;Po&#x27;, &#x27;Fa&#x27;, &#x27;TA&#x27;, &#x27;Gd&#x27;, &#x27;Ex&#x27;]])</pre></div></div></div></div></div></div><div class=\"sk-parallel-item\"><div class=\"sk-item\"><div class=\"sk-label-container\"><div class=\"sk-label sk-toggleable\"><input class=\"sk-toggleable__control sk-hidden--visually\" id=\"sk-estimator-id-24\" type=\"checkbox\" ><label for=\"sk-estimator-id-24\" class=\"sk-toggleable__label sk-toggleable__label-arrow\">encode_cat</label><div class=\"sk-toggleable__content\"><pre>[&#x27;MSZoning&#x27;, &#x27;Street&#x27;, &#x27;Alley&#x27;, &#x27;LotShape&#x27;, &#x27;LandContour&#x27;, &#x27;LotConfig&#x27;, &#x27;Neighborhood&#x27;, &#x27;BldgType&#x27;, &#x27;HouseStyle&#x27;, &#x27;RoofStyle&#x27;, &#x27;Heating&#x27;, &#x27;CentralAir&#x27;, &#x27;Electrical&#x27;, &#x27;Functional&#x27;, &#x27;GarageType&#x27;, &#x27;Fence&#x27;, &#x27;MiscFeature&#x27;, &#x27;SaleType&#x27;, &#x27;SaleCondition&#x27;]</pre></div></div></div><div class=\"sk-serial\"><div class=\"sk-item\"><div class=\"sk-estimator sk-toggleable\"><input class=\"sk-toggleable__control sk-hidden--visually\" id=\"sk-estimator-id-25\" type=\"checkbox\" ><label for=\"sk-estimator-id-25\" class=\"sk-toggleable__label sk-toggleable__label-arrow\">OneHotEncoder</label><div class=\"sk-toggleable__content\"><pre>OneHotEncoder(drop=&#x27;first&#x27;, handle_unknown=&#x27;infrequent_if_exist&#x27;,\n",
       "              min_frequency=6, sparse_output=False)</pre></div></div></div></div></div></div><div class=\"sk-parallel-item\"><div class=\"sk-item\"><div class=\"sk-label-container\"><div class=\"sk-label sk-toggleable\"><input class=\"sk-toggleable__control sk-hidden--visually\" id=\"sk-estimator-id-26\" type=\"checkbox\" ><label for=\"sk-estimator-id-26\" class=\"sk-toggleable__label sk-toggleable__label-arrow\">encode_cat_ord</label><div class=\"sk-toggleable__content\"><pre>[&#x27;Utilities&#x27;, &#x27;LandSlope&#x27;, &#x27;RoofMatl&#x27;, &#x27;MasVnrType&#x27;, &#x27;Foundation&#x27;, &#x27;BsmtExposure&#x27;, &#x27;BsmtFinType1&#x27;, &#x27;BsmtFinType2&#x27;, &#x27;GarageFinish&#x27;, &#x27;PavedDrive&#x27;]</pre></div></div></div><div class=\"sk-serial\"><div class=\"sk-item\"><div class=\"sk-estimator sk-toggleable\"><input class=\"sk-toggleable__control sk-hidden--visually\" id=\"sk-estimator-id-27\" type=\"checkbox\" ><label for=\"sk-estimator-id-27\" class=\"sk-toggleable__label sk-toggleable__label-arrow\">OrdinalEncoder</label><div class=\"sk-toggleable__content\"><pre>OrdinalEncoder(categories=[[&#x27;NA&#x27;, &#x27;ELO&#x27;, &#x27;NoSeWa&#x27;, &#x27;NoSewr&#x27;, &#x27;AllPub&#x27;],\n",
       "                           [&#x27;NA&#x27;, &#x27;Sev&#x27;, &#x27;Mod&#x27;, &#x27;Gtl&#x27;],\n",
       "                           [&#x27;NA&#x27;, &#x27;ClyTile&#x27;, &#x27;CompShg&#x27;, &#x27;Membran&#x27;, &#x27;Metal&#x27;,\n",
       "                            &#x27;Roll&#x27;, &#x27;Tar&amp;Grv&#x27;, &#x27;WdShake&#x27;, &#x27;WdShngl&#x27;],\n",
       "                           [&#x27;NA&#x27;, &#x27;BrkCmn&#x27;, &#x27;BrkFace&#x27;, &#x27;CBlock&#x27;, &#x27;Stone&#x27;],\n",
       "                           [&#x27;NA&#x27;, &#x27;BrkTil&#x27;, &#x27;CBlock&#x27;, &#x27;Slab&#x27;, &#x27;PConc&#x27;, &#x27;Wood&#x27;,\n",
       "                            &#x27;Stone&#x27;],\n",
       "                           [&#x27;NA&#x27;, &#x27;No&#x27;, &#x27;Mn&#x27;, &#x27;Av&#x27;, &#x27;Gd&#x27;],\n",
       "                           [&#x27;NA&#x27;, &#x27;Unf&#x27;, &#x27;LwQ&#x27;, &#x27;Rec&#x27;, &#x27;BLQ&#x27;, &#x27;ALQ&#x27;, &#x27;GLQ&#x27;],\n",
       "                           [&#x27;NA&#x27;, &#x27;Unf&#x27;, &#x27;LwQ&#x27;, &#x27;Rec&#x27;, &#x27;BLQ&#x27;, &#x27;ALQ&#x27;, &#x27;GLQ&#x27;],\n",
       "                           [&#x27;NA&#x27;, &#x27;Unf&#x27;, &#x27;RFn&#x27;, &#x27;Fin&#x27;], [&#x27;NA&#x27;, &#x27;N&#x27;, &#x27;P&#x27;, &#x27;Y&#x27;]])</pre></div></div></div></div></div></div></div></div></div></div></div></div></div></div></div><div class=\"sk-item\"><div class=\"sk-estimator sk-toggleable\"><input class=\"sk-toggleable__control sk-hidden--visually\" id=\"sk-estimator-id-28\" type=\"checkbox\" ><label for=\"sk-estimator-id-28\" class=\"sk-toggleable__label sk-toggleable__label-arrow\">DecisionTreeRegressor</label><div class=\"sk-toggleable__content\"><pre>DecisionTreeRegressor(max_depth=11, min_samples_leaf=5, min_samples_split=31)</pre></div></div></div></div></div></div></div>"
      ],
      "text/plain": [
       "Pipeline(steps=[('split_num_cat',\n",
       "                 ColumnTransformer(transformers=[('pipe_num',\n",
       "                                                  Pipeline(steps=[('impute_num',\n",
       "                                                                   SimpleImputer())]),\n",
       "                                                  <sklearn.compose._column_transformer.make_column_selector object at 0x0000015D9ECD7D30>),\n",
       "                                                 ('pipe_cat_all',\n",
       "                                                  Pipeline(steps=[('impute_cat',\n",
       "                                                                   SimpleImputer(fill_value='NA',\n",
       "                                                                                 strategy='constant')),\n",
       "                                                                  ('split_cats',\n",
       "                                                                   ColumnTransformer(transfor...\n",
       "                                                                                                                                'RFn',\n",
       "                                                                                                                                'Fin'],\n",
       "                                                                                                                               ['NA',\n",
       "                                                                                                                                'N',\n",
       "                                                                                                                                'P',\n",
       "                                                                                                                                'Y']]),\n",
       "                                                                                                    ['Utilities',\n",
       "                                                                                                     'LandSlope',\n",
       "                                                                                                     'RoofMatl',\n",
       "                                                                                                     'MasVnrType',\n",
       "                                                                                                     'Foundation',\n",
       "                                                                                                     'BsmtExposure',\n",
       "                                                                                                     'BsmtFinType1',\n",
       "                                                                                                     'BsmtFinType2',\n",
       "                                                                                                     'GarageFinish',\n",
       "                                                                                                     'PavedDrive'])]))]),\n",
       "                                                  <sklearn.compose._column_transformer.make_column_selector object at 0x0000015D9ECD7FA0>)])),\n",
       "                ('model',\n",
       "                 DecisionTreeRegressor(max_depth=11, min_samples_leaf=5,\n",
       "                                       min_samples_split=31))])"
      ]
     },
     "execution_count": 78,
     "metadata": {},
     "output_type": "execute_result"
    }
   ],
   "source": [
    "pipe_all.fit(X_train,y_train)"
   ]
  },
  {
   "attachments": {},
   "cell_type": "markdown",
   "metadata": {},
   "source": [
    "#### Evaluate"
   ]
  },
  {
   "cell_type": "code",
   "execution_count": 79,
   "metadata": {},
   "outputs": [],
   "source": [
    "y_train_pred = pipe_all.predict(X_train)\n",
    "\n",
    "train_mae  = mean_absolute_error(y_train, y_train_pred)\n",
    "train_mse  = mean_squared_error(y_train, y_train_pred)\n",
    "train_rmse = mean_squared_error(y_train, y_train_pred, squared=False)\n",
    "train_mape = mean_absolute_percentage_error(y_train, y_train_pred)\n",
    "train_r2 = r2_score(y_train, y_train_pred)"
   ]
  },
  {
   "cell_type": "code",
   "execution_count": 80,
   "metadata": {},
   "outputs": [
    {
     "name": "stderr",
     "output_type": "stream",
     "text": [
      "c:\\Python39\\lib\\site-packages\\sklearn\\preprocessing\\_encoders.py:202: UserWarning: Found unknown categories in columns [12] during transform. These unknown categories will be encoded as all zeros\n",
      "  warnings.warn(\n"
     ]
    }
   ],
   "source": [
    "y_test_pred = pipe_all.predict(X_test)\n",
    "\n",
    "test_mae  = mean_absolute_error(y_test, y_test_pred)\n",
    "test_mse  = mean_squared_error(y_test, y_test_pred)\n",
    "test_rmse = mean_squared_error(y_test, y_test_pred, squared=False)\n",
    "test_mape = mean_absolute_percentage_error(y_test, y_test_pred)\n",
    "test_r2 = r2_score(y_test, y_test_pred)"
   ]
  },
  {
   "cell_type": "code",
   "execution_count": 81,
   "metadata": {},
   "outputs": [
    {
     "data": {
      "text/html": [
       "<div>\n",
       "<style scoped>\n",
       "    .dataframe tbody tr th:only-of-type {\n",
       "        vertical-align: middle;\n",
       "    }\n",
       "\n",
       "    .dataframe tbody tr th {\n",
       "        vertical-align: top;\n",
       "    }\n",
       "\n",
       "    .dataframe thead th {\n",
       "        text-align: right;\n",
       "    }\n",
       "</style>\n",
       "<table border=\"1\" class=\"dataframe\">\n",
       "  <thead>\n",
       "    <tr style=\"text-align: right;\">\n",
       "      <th></th>\n",
       "      <th>MAE</th>\n",
       "      <th>RMSE</th>\n",
       "      <th>MAPE</th>\n",
       "      <th>R2</th>\n",
       "    </tr>\n",
       "  </thead>\n",
       "  <tbody>\n",
       "    <tr>\n",
       "      <th>train_set</th>\n",
       "      <td>17848.778830</td>\n",
       "      <td>27288.005928</td>\n",
       "      <td>0.101020</td>\n",
       "      <td>0.883032</td>\n",
       "    </tr>\n",
       "    <tr>\n",
       "      <th>test_set</th>\n",
       "      <td>22573.699925</td>\n",
       "      <td>34987.804631</td>\n",
       "      <td>0.126474</td>\n",
       "      <td>0.798159</td>\n",
       "    </tr>\n",
       "  </tbody>\n",
       "</table>\n",
       "</div>"
      ],
      "text/plain": [
       "                    MAE          RMSE      MAPE        R2\n",
       "train_set  17848.778830  27288.005928  0.101020  0.883032\n",
       "test_set   22573.699925  34987.804631  0.126474  0.798159"
      ]
     },
     "execution_count": 81,
     "metadata": {},
     "output_type": "execute_result"
    }
   ],
   "source": [
    "comparing_models_df = pd.DataFrame({\"MAE\":  [train_mae,  test_mae ],\n",
    "                                    \"RMSE\": [train_rmse, test_rmse],\n",
    "                                    \"MAPE\": [train_mape, test_mape],\n",
    "                                    \"R2\":   [train_r2,   test_r2  ]},\n",
    "                                    index=[\"train_set\", \"test_set\"])\n",
    "comparing_models_df"
   ]
  }
 ],
 "metadata": {
  "kernelspec": {
   "display_name": "Python 3",
   "language": "python",
   "name": "python3"
  },
  "language_info": {
   "codemirror_mode": {
    "name": "ipython",
    "version": 3
   },
   "file_extension": ".py",
   "mimetype": "text/x-python",
   "name": "python",
   "nbconvert_exporter": "python",
   "pygments_lexer": "ipython3",
   "version": "3.9.1"
  },
  "orig_nbformat": 4,
  "vscode": {
   "interpreter": {
    "hash": "81794d4967e6c3204c66dcd87b604927b115b27c00565d3d43f05ba2f3a2cb0d"
   }
  }
 },
 "nbformat": 4,
 "nbformat_minor": 2
}
